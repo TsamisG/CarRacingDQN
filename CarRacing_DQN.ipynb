{
 "cells": [
  {
   "cell_type": "code",
   "execution_count": null,
   "metadata": {
    "id": "7sVLARHyJpKm"
   },
   "outputs": [],
   "source": [
    "import numpy as np\n",
    "import gym\n",
    "from DQN_Utils import make_env, DQNAgent"
   ]
  },
  {
   "cell_type": "code",
   "execution_count": null,
   "metadata": {
    "colab": {
     "base_uri": "https://localhost:8080/"
    },
    "id": "lUeetdtutzLJ",
    "outputId": "2f98a77a-a609-444d-c65d-d5f89337bede"
   },
   "outputs": [],
   "source": [
    "env = gym.make(\"CarRacing-v2\", continuous=False)\n",
    "env = make_env(env)\n",
    "best_reward = -np.inf\n",
    "agent = DQNAgent(gamma=0.99, epsilon=1.0, learning_rate=2.5e-4,\n",
    "                 input_shape=(env.observation_space.shape),\n",
    "                 n_actions=env.action_space.n,\n",
    "                 memory_size=20000,\n",
    "                 epsilon_decay=1.5e-6,\n",
    "                 epsilon_min=0.1)\n",
    "n_steps = int(2e6)"
   ]
  },
  {
   "cell_type": "code",
   "execution_count": null,
   "metadata": {
    "colab": {
     "base_uri": "https://localhost:8080/"
    },
    "id": "9tWpZyycuUO3",
    "outputId": "16c30368-b16d-43ca-cae4-6c01e8e84da8"
   },
   "outputs": [],
   "source": [
    "reward_per_episode = []\n",
    "max_episode_steps = 1000\n",
    "n = 1\n",
    "episode = 1\n",
    "while n < n_steps:\n",
    "    done = False\n",
    "    episode_reward = 0\n",
    "    episode_step = 0\n",
    "    neg_reward_cnt = 0\n",
    "    s = env.reset()\n",
    "    while not done and episode_step < max_episode_steps:\n",
    "        a = agent.choose_action(s)\n",
    "        s2, r, done, _, _ = env.step(a)\n",
    "        episode_step += 1\n",
    "        episode_reward += r\n",
    "        agent.remember(s, a, r, s2, int(done))\n",
    "        agent.learn()\n",
    "        s = s2\n",
    "        n += 1\n",
    "        if r < 0 and episode_step>300:\n",
    "            neg_reward_cnt += 1\n",
    "        else:\n",
    "            neg_reward_cnt = 0\n",
    "        \n",
    "        if neg_reward_cnt > 30:\n",
    "            break\n",
    "            \n",
    "        if episode_reward < -10:\n",
    "            break\n",
    "            \n",
    "    reward_per_episode.append(episode_reward)\n",
    "    best_reward = max(best_reward, episode_reward)\n",
    "\n",
    "    if episode == 1 or episode % 50 == 0:\n",
    "        avg_reward = np.mean(reward_per_episode[-50:])\n",
    "        print_string = f'[ Episode: {episode} | Step: {n} / {n_steps} | 50-Episode Average Score: {avg_reward:.2f} | Best Score: {best_reward} | Epsilon: {agent.epsilon}]'\n",
    "        print(print_string)\n",
    "        agent.create_checkpoint(path='checkpoints/')\n",
    "        with open('CarRacing_DQN_training_logs.csv', 'a') as f:\n",
    "            f.write(f'{episode},{n},{avg_reward},{best_reward},{agent.epsilon}\\n')\n",
    "    \n",
    "    episode += 1\n",
    "env.close()"
   ]
  }
 ],
 "metadata": {
  "accelerator": "GPU",
  "colab": {
   "gpuType": "T4",
   "provenance": []
  },
  "kernelspec": {
   "display_name": "Python 3 (ipykernel)",
   "language": "python",
   "name": "python3"
  },
  "language_info": {
   "codemirror_mode": {
    "name": "ipython",
    "version": 3
   },
   "file_extension": ".py",
   "mimetype": "text/x-python",
   "name": "python",
   "nbconvert_exporter": "python",
   "pygments_lexer": "ipython3",
   "version": "3.10.10"
  }
 },
 "nbformat": 4,
 "nbformat_minor": 4
}
